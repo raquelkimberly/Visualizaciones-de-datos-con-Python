{
  "nbformat": 4,
  "nbformat_minor": 0,
  "metadata": {
    "colab": {
      "provenance": [],
      "authorship_tag": "ABX9TyMNh4/24gc5TMQLh4LEV1M+",
      "include_colab_link": true
    },
    "kernelspec": {
      "name": "python3",
      "display_name": "Python 3"
    },
    "language_info": {
      "name": "python"
    }
  },
  "cells": [
    {
      "cell_type": "markdown",
      "metadata": {
        "id": "view-in-github",
        "colab_type": "text"
      },
      "source": [
        "<a href=\"https://colab.research.google.com/github/raquelkimberly/Visualizaciones-de-datos-con-Python/blob/master/grafico.ipynb\" target=\"_parent\"><img src=\"https://colab.research.google.com/assets/colab-badge.svg\" alt=\"Open In Colab\"/></a>"
      ]
    },
    {
      "cell_type": "code",
      "execution_count": 1,
      "metadata": {
        "colab": {
          "base_uri": "https://localhost:8080/"
        },
        "id": "gB7VjEBSyEKc",
        "outputId": "782a4d2c-459e-417c-e66b-bab71fc76e5e"
      },
      "outputs": [
        {
          "output_type": "stream",
          "name": "stdout",
          "text": [
            "Mounted at /content/drive\n"
          ]
        }
      ],
      "source": [
        "from google.colab import drive\n",
        "drive.mount('/content/drive')"
      ]
    },
    {
      "cell_type": "code",
      "source": [
        "import matplotlib.pyplot as plt\n",
        "import pandas as pd\n",
        "import numpy as np"
      ],
      "metadata": {
        "id": "KLUzn6FKyrb9"
      },
      "execution_count": 2,
      "outputs": []
    },
    {
      "cell_type": "code",
      "source": [
        "df = pd.read_excel('/content/drive/MyDrive/CODIFICACION DOJO/UNDP Composite Indices.xlsx')\n",
        "df.head()"
      ],
      "metadata": {
        "colab": {
          "base_uri": "https://localhost:8080/",
          "height": 267
        },
        "id": "45ZGVse-yisX",
        "outputId": "eb998870-7d0a-4d5d-ce2c-35f0dc6355ed"
      },
      "execution_count": 3,
      "outputs": [
        {
          "output_type": "execute_result",
          "data": {
            "text/plain": [
              "  ISO3      Country Region  Gender  Year  Human Development Index  \\\n",
              "0  AFG  Afghanistan     SA  Female  1990                 0.196280   \n",
              "1  AFG  Afghanistan     SA  Female  1991                 0.196378   \n",
              "2  AFG  Afghanistan     SA  Female  1992                 0.199362   \n",
              "3  AFG  Afghanistan     SA  Female  1993                 0.195311   \n",
              "4  AFG  Afghanistan     SA  Female  1994                 0.182092   \n",
              "\n",
              "   Life Expectancy at Birth  Expected Years of Schooling  \\\n",
              "0                   48.3973                     1.970663   \n",
              "1                   49.1439                     2.096679   \n",
              "2                   50.3197                     2.230753   \n",
              "3                   52.7389                     2.373401   \n",
              "4                   53.5442                     2.525171   \n",
              "\n",
              "   Mean Years of Schooling  Gross National Income Per Capita  \n",
              "0                 0.342503                        668.055760  \n",
              "1                 0.371860                        564.926374  \n",
              "2                 0.401218                        508.750730  \n",
              "3                 0.430575                        374.581093  \n",
              "4                 0.459933                        266.207610  "
            ],
            "text/html": [
              "\n",
              "  <div id=\"df-b9aa864f-5d6c-4636-9994-10a74ebb5274\">\n",
              "    <div class=\"colab-df-container\">\n",
              "      <div>\n",
              "<style scoped>\n",
              "    .dataframe tbody tr th:only-of-type {\n",
              "        vertical-align: middle;\n",
              "    }\n",
              "\n",
              "    .dataframe tbody tr th {\n",
              "        vertical-align: top;\n",
              "    }\n",
              "\n",
              "    .dataframe thead th {\n",
              "        text-align: right;\n",
              "    }\n",
              "</style>\n",
              "<table border=\"1\" class=\"dataframe\">\n",
              "  <thead>\n",
              "    <tr style=\"text-align: right;\">\n",
              "      <th></th>\n",
              "      <th>ISO3</th>\n",
              "      <th>Country</th>\n",
              "      <th>Region</th>\n",
              "      <th>Gender</th>\n",
              "      <th>Year</th>\n",
              "      <th>Human Development Index</th>\n",
              "      <th>Life Expectancy at Birth</th>\n",
              "      <th>Expected Years of Schooling</th>\n",
              "      <th>Mean Years of Schooling</th>\n",
              "      <th>Gross National Income Per Capita</th>\n",
              "    </tr>\n",
              "  </thead>\n",
              "  <tbody>\n",
              "    <tr>\n",
              "      <th>0</th>\n",
              "      <td>AFG</td>\n",
              "      <td>Afghanistan</td>\n",
              "      <td>SA</td>\n",
              "      <td>Female</td>\n",
              "      <td>1990</td>\n",
              "      <td>0.196280</td>\n",
              "      <td>48.3973</td>\n",
              "      <td>1.970663</td>\n",
              "      <td>0.342503</td>\n",
              "      <td>668.055760</td>\n",
              "    </tr>\n",
              "    <tr>\n",
              "      <th>1</th>\n",
              "      <td>AFG</td>\n",
              "      <td>Afghanistan</td>\n",
              "      <td>SA</td>\n",
              "      <td>Female</td>\n",
              "      <td>1991</td>\n",
              "      <td>0.196378</td>\n",
              "      <td>49.1439</td>\n",
              "      <td>2.096679</td>\n",
              "      <td>0.371860</td>\n",
              "      <td>564.926374</td>\n",
              "    </tr>\n",
              "    <tr>\n",
              "      <th>2</th>\n",
              "      <td>AFG</td>\n",
              "      <td>Afghanistan</td>\n",
              "      <td>SA</td>\n",
              "      <td>Female</td>\n",
              "      <td>1992</td>\n",
              "      <td>0.199362</td>\n",
              "      <td>50.3197</td>\n",
              "      <td>2.230753</td>\n",
              "      <td>0.401218</td>\n",
              "      <td>508.750730</td>\n",
              "    </tr>\n",
              "    <tr>\n",
              "      <th>3</th>\n",
              "      <td>AFG</td>\n",
              "      <td>Afghanistan</td>\n",
              "      <td>SA</td>\n",
              "      <td>Female</td>\n",
              "      <td>1993</td>\n",
              "      <td>0.195311</td>\n",
              "      <td>52.7389</td>\n",
              "      <td>2.373401</td>\n",
              "      <td>0.430575</td>\n",
              "      <td>374.581093</td>\n",
              "    </tr>\n",
              "    <tr>\n",
              "      <th>4</th>\n",
              "      <td>AFG</td>\n",
              "      <td>Afghanistan</td>\n",
              "      <td>SA</td>\n",
              "      <td>Female</td>\n",
              "      <td>1994</td>\n",
              "      <td>0.182092</td>\n",
              "      <td>53.5442</td>\n",
              "      <td>2.525171</td>\n",
              "      <td>0.459933</td>\n",
              "      <td>266.207610</td>\n",
              "    </tr>\n",
              "  </tbody>\n",
              "</table>\n",
              "</div>\n",
              "      <button class=\"colab-df-convert\" onclick=\"convertToInteractive('df-b9aa864f-5d6c-4636-9994-10a74ebb5274')\"\n",
              "              title=\"Convert this dataframe to an interactive table.\"\n",
              "              style=\"display:none;\">\n",
              "        \n",
              "  <svg xmlns=\"http://www.w3.org/2000/svg\" height=\"24px\"viewBox=\"0 0 24 24\"\n",
              "       width=\"24px\">\n",
              "    <path d=\"M0 0h24v24H0V0z\" fill=\"none\"/>\n",
              "    <path d=\"M18.56 5.44l.94 2.06.94-2.06 2.06-.94-2.06-.94-.94-2.06-.94 2.06-2.06.94zm-11 1L8.5 8.5l.94-2.06 2.06-.94-2.06-.94L8.5 2.5l-.94 2.06-2.06.94zm10 10l.94 2.06.94-2.06 2.06-.94-2.06-.94-.94-2.06-.94 2.06-2.06.94z\"/><path d=\"M17.41 7.96l-1.37-1.37c-.4-.4-.92-.59-1.43-.59-.52 0-1.04.2-1.43.59L10.3 9.45l-7.72 7.72c-.78.78-.78 2.05 0 2.83L4 21.41c.39.39.9.59 1.41.59.51 0 1.02-.2 1.41-.59l7.78-7.78 2.81-2.81c.8-.78.8-2.07 0-2.86zM5.41 20L4 18.59l7.72-7.72 1.47 1.35L5.41 20z\"/>\n",
              "  </svg>\n",
              "      </button>\n",
              "      \n",
              "  <style>\n",
              "    .colab-df-container {\n",
              "      display:flex;\n",
              "      flex-wrap:wrap;\n",
              "      gap: 12px;\n",
              "    }\n",
              "\n",
              "    .colab-df-convert {\n",
              "      background-color: #E8F0FE;\n",
              "      border: none;\n",
              "      border-radius: 50%;\n",
              "      cursor: pointer;\n",
              "      display: none;\n",
              "      fill: #1967D2;\n",
              "      height: 32px;\n",
              "      padding: 0 0 0 0;\n",
              "      width: 32px;\n",
              "    }\n",
              "\n",
              "    .colab-df-convert:hover {\n",
              "      background-color: #E2EBFA;\n",
              "      box-shadow: 0px 1px 2px rgba(60, 64, 67, 0.3), 0px 1px 3px 1px rgba(60, 64, 67, 0.15);\n",
              "      fill: #174EA6;\n",
              "    }\n",
              "\n",
              "    [theme=dark] .colab-df-convert {\n",
              "      background-color: #3B4455;\n",
              "      fill: #D2E3FC;\n",
              "    }\n",
              "\n",
              "    [theme=dark] .colab-df-convert:hover {\n",
              "      background-color: #434B5C;\n",
              "      box-shadow: 0px 1px 3px 1px rgba(0, 0, 0, 0.15);\n",
              "      filter: drop-shadow(0px 1px 2px rgba(0, 0, 0, 0.3));\n",
              "      fill: #FFFFFF;\n",
              "    }\n",
              "  </style>\n",
              "\n",
              "      <script>\n",
              "        const buttonEl =\n",
              "          document.querySelector('#df-b9aa864f-5d6c-4636-9994-10a74ebb5274 button.colab-df-convert');\n",
              "        buttonEl.style.display =\n",
              "          google.colab.kernel.accessAllowed ? 'block' : 'none';\n",
              "\n",
              "        async function convertToInteractive(key) {\n",
              "          const element = document.querySelector('#df-b9aa864f-5d6c-4636-9994-10a74ebb5274');\n",
              "          const dataTable =\n",
              "            await google.colab.kernel.invokeFunction('convertToInteractive',\n",
              "                                                     [key], {});\n",
              "          if (!dataTable) return;\n",
              "\n",
              "          const docLinkHtml = 'Like what you see? Visit the ' +\n",
              "            '<a target=\"_blank\" href=https://colab.research.google.com/notebooks/data_table.ipynb>data table notebook</a>'\n",
              "            + ' to learn more about interactive tables.';\n",
              "          element.innerHTML = '';\n",
              "          dataTable['output_type'] = 'display_data';\n",
              "          await google.colab.output.renderOutput(dataTable, element);\n",
              "          const docLink = document.createElement('div');\n",
              "          docLink.innerHTML = docLinkHtml;\n",
              "          element.appendChild(docLink);\n",
              "        }\n",
              "      </script>\n",
              "    </div>\n",
              "  </div>\n",
              "  "
            ]
          },
          "metadata": {},
          "execution_count": 3
        }
      ]
    },
    {
      "cell_type": "code",
      "source": [
        "df.groupby(['Country'])['Year'].count()"
      ],
      "metadata": {
        "colab": {
          "base_uri": "https://localhost:8080/"
        },
        "id": "uuv8f2Tx8Hqw",
        "outputId": "378c7dfe-6770-4626-eff2-c496977c25fc"
      },
      "execution_count": 4,
      "outputs": [
        {
          "output_type": "execute_result",
          "data": {
            "text/plain": [
              "Country\n",
              "Afghanistan    96\n",
              "Albania        96\n",
              "Algeria        96\n",
              "Andorra        96\n",
              "Angola         96\n",
              "               ..\n",
              "Viet Nam       96\n",
              "World          96\n",
              "Yemen          96\n",
              "Zambia         96\n",
              "Zimbabwe       96\n",
              "Name: Year, Length: 202, dtype: int64"
            ]
          },
          "metadata": {},
          "execution_count": 4
        }
      ]
    },
    {
      "cell_type": "code",
      "source": [
        "df2=df.groupby(['Year'])['Gross National Income Per Capita'].mean()"
      ],
      "metadata": {
        "id": "-NynURxy1d4a"
      },
      "execution_count": 5,
      "outputs": []
    },
    {
      "cell_type": "code",
      "source": [
        "Years = np.array(df2.index)\n",
        "Years"
      ],
      "metadata": {
        "colab": {
          "base_uri": "https://localhost:8080/"
        },
        "id": "NN1DD4aa3KSk",
        "outputId": "a016a79e-ddfc-448d-fcd0-05e20381212a"
      },
      "execution_count": 7,
      "outputs": [
        {
          "output_type": "execute_result",
          "data": {
            "text/plain": [
              "array([1990, 1991, 1992, 1993, 1994, 1995, 1996, 1997, 1998, 1999, 2000,\n",
              "       2001, 2002, 2003, 2004, 2005, 2006, 2007, 2008, 2009, 2010, 2011,\n",
              "       2012, 2013, 2014, 2015, 2016, 2017, 2018, 2019, 2020, 2021])"
            ]
          },
          "metadata": {},
          "execution_count": 7
        }
      ]
    },
    {
      "cell_type": "code",
      "source": [
        "percapita = np.array(df2.values)\n",
        "percapita"
      ],
      "metadata": {
        "colab": {
          "base_uri": "https://localhost:8080/"
        },
        "id": "O2AjzrBq4TPT",
        "outputId": "ccaeb780-bea4-42c7-b2e7-f7eb64947143"
      },
      "execution_count": 9,
      "outputs": [
        {
          "output_type": "execute_result",
          "data": {
            "text/plain": [
              "array([12641.93165228, 12459.08361991, 12481.08010485, 12556.96651663,\n",
              "       12738.90374485, 12965.51875788, 13300.98681802, 13765.36372225,\n",
              "       14045.68215285, 14254.98636691, 14694.1490165 , 14853.78899133,\n",
              "       14986.53370113, 15300.41513389, 15901.11136284, 16332.28099146,\n",
              "       17025.14362739, 17587.0458234 , 17538.17912603, 16765.66830127,\n",
              "       17121.38885854, 17389.38873128, 17619.89685693, 17869.70480451,\n",
              "       18146.68950601, 18434.88009952, 18699.51974068, 19067.70196433,\n",
              "       19330.02398173, 19538.75513357, 18480.94326201, 19365.59273964])"
            ]
          },
          "metadata": {},
          "execution_count": 9
        }
      ]
    },
    {
      "cell_type": "code",
      "source": [
        "plt.style.use('fivethirtyeight')\n",
        "fig, axes = plt.subplots(nrows = 1, ncols = 1)\n",
        "axes.plot(Years,percapita, c= 'Orange', marker = 'o');\n",
        "axes.set_xlim(left=1988,right=2022);\n",
        "axes.set_ylim()\n",
        "axes.set_xlabel('Años', fontsize = 12)\n",
        "axes.set_ylabel('Ingreso nacional bruto per cápita', fontsize = 12)\n",
        "axes.set_title('Ingreso nacional bruto per cápita a traves de los años', fontsize = 16)"
      ],
      "metadata": {
        "colab": {
          "base_uri": "https://localhost:8080/",
          "height": 336
        },
        "id": "LUeCdv6fyipy",
        "outputId": "535bec1b-e0fc-496c-ea0c-55c9ad6257ca"
      },
      "execution_count": 13,
      "outputs": [
        {
          "output_type": "execute_result",
          "data": {
            "text/plain": [
              "Text(0.5, 1.0, 'Ingreso nacional bruto per cápita a traves de los años')"
            ]
          },
          "metadata": {},
          "execution_count": 13
        },
        {
          "output_type": "display_data",
          "data": {
            "text/plain": [
              "<Figure size 432x288 with 1 Axes>"
            ],
            "image/png": "[encoded data removed]"
          },
          "metadata": {}
        }
      ]
    }
  ]
}